{
 "cells": [
  {
   "cell_type": "code",
   "execution_count": 2,
   "id": "eef5dd67",
   "metadata": {},
   "outputs": [],
   "source": [
    "import torch\n",
    "import torch.nn as nn\n",
    "import torch.nn.functional as F\n",
    "import torch.utils\n",
    "import torch.distributions\n",
    "import numpy as np\n",
    "import matplotlib.pyplot as plt\n",
    "from  tqdm import tqdm\n",
    "import os\n",
    "import torch.optim as optim\n",
    "import idx2numpy\n",
    "\n",
    "\n",
    "images_root_folder = \"images-fashion-MLP-VAE\"\n",
    "\n",
    "if not os.path.exists(f\"{images_root_folder}\"):\n",
    "    os.mkdir(f\"{images_root_folder}\")\n",
    "\n",
    "\n",
    "# Load the labels file\n",
    "trainPath = \"fashion-MNIST/train-images-idx3-ubyte\"\n",
    "testPath = \"fashion-MNIST/t10k-images-idx3-ubyte\"\n",
    "\n",
    "train = idx2numpy.convert_from_file(trainPath)\n",
    "test = idx2numpy.convert_from_file(testPath)\n",
    "train=torch.Tensor(train)\n",
    "test=torch.Tensor(test)\n",
    "train=torch.flatten(train,start_dim=1)\n",
    "test=torch.flatten(test,start_dim=1)\n",
    "\n",
    "device = 'cuda' if torch.cuda.is_available() else 'cpu'\n",
    "PATH=\"MLP-VAE-Fashion_MNIST-Dataset-Model\"\n",
    "EPOCHS=50\n",
    "lr=0.0001\n",
    "latent_dim=64\n",
    "beta = 4"
   ]
  },
  {
   "cell_type": "code",
   "execution_count": 5,
   "id": "f4d062b7",
   "metadata": {},
   "outputs": [],
   "source": [
    "device = 'cuda' if torch.cuda.is_available() else 'cpu'\n",
    "\n",
    "class VariationalEnc(nn.Module):\n",
    "    def __init__(self,x):\n",
    "        super(VariationalEnc, self).__init__()\n",
    "        self.l1=nn.Linear(784,512)\n",
    "        self.l2=nn.Linear(512,x)\n",
    "        self.l3=nn.Linear(512,x)\n",
    "        self.dis=torch.distributions.Normal(0, 1)\n",
    "        self.dis.loc = self.dis.loc.cuda() # hack to get sampling on the GPU\n",
    "        self.dis.scale = self.dis.scale.cuda()\n",
    "        self.kld=0\n",
    "    def forward(self,x):\n",
    "        x=self.l1(x)\n",
    "        x = F.relu(x)\n",
    "        mu=self.l2(x)\n",
    "        sig=torch.exp(self.l3(x))\n",
    "        z=mu + sig*self.dis.sample(mu.shape)\n",
    "        self.kld=(sig**2 + mu**2 - torch.log(sig) - 1/2).sum()\n",
    "        return z\n",
    "\n",
    "\n",
    "class Decoder(nn.Module):\n",
    "    def __init__(self,x):\n",
    "        super(Decoder, self).__init__()\n",
    "        self.l1=nn.Linear(x,512)\n",
    "        self.l2=nn.Linear(512,784)\n",
    "\n",
    "    def forward(self,x):\n",
    "        ans=self.l1(x)\n",
    "        ans=F.relu(ans)\n",
    "        ans=self.l2(ans)\n",
    "        ans = torch.sigmoid(ans)\n",
    "        return ans\n",
    "\n",
    "\n",
    "\n",
    "class VAE(nn.Module):\n",
    "    def __init__(self,x):\n",
    "        super(VAE, self).__init__()\n",
    "        self.enc=VariationalEnc(x)\n",
    "        self.dec=Decoder(x)\n",
    "\n",
    "    def forward(self,x):\n",
    "        x=self.enc(x)\n",
    "        return self.dec(x)\n",
    "\n",
    "\n",
    "def chaap2(orignal,decoded, idx, epo):\n",
    "    if not os.path.exists(f\"{images_root_folder}/{epo}\"):\n",
    "        os.mkdir(f\"{images_root_folder}/{epo}\")\n",
    "\n",
    "    org1=torch.tensor(orignal)\n",
    "    org1=org1.detach().cpu().numpy()\n",
    "    org1=np.resize(org1,(28,28))\n",
    "\n",
    "    dec1=torch.tensor(decoded)\n",
    "    dec1=dec1.detach().cpu().numpy()\n",
    "    dec1=np.resize(dec1,(28,28))\n",
    "\n",
    "    output_path = f\"{images_root_folder}/{epo}/{idx}\"\n",
    "    if not os.path.exists(f\"{output_path}\"):\n",
    "        os.mkdir(f\"{output_path}\")\n",
    "\n",
    "    plt.imsave(f\"{output_path}/original.png\" , org1, cmap='gray')\n",
    "    plt.imsave(f\"{output_path}/decoded.png\" , dec1, cmap='gray')"
   ]
  },
  {
   "cell_type": "code",
   "execution_count": 7,
   "id": "9d6dd5a9",
   "metadata": {},
   "outputs": [
    {
     "name": "stderr",
     "output_type": "stream",
     "text": [
      "  0%|                                                                                        | 0/60000 [00:00<?, ?it/s]C:\\Users\\Vaibhav Tanwar\\AppData\\Local\\Temp\\ipykernel_26976\\733239393.py:53: UserWarning: To copy construct from a tensor, it is recommended to use sourceTensor.clone().detach() or sourceTensor.clone().detach().requires_grad_(True), rather than torch.tensor(sourceTensor).\n",
      "  org1=torch.tensor(orignal)\n",
      "C:\\Users\\Vaibhav Tanwar\\AppData\\Local\\Temp\\ipykernel_26976\\733239393.py:57: UserWarning: To copy construct from a tensor, it is recommended to use sourceTensor.clone().detach() or sourceTensor.clone().detach().requires_grad_(True), rather than torch.tensor(sourceTensor).\n",
      "  dec1=torch.tensor(decoded)\n",
      "100%|███████████████████████████████████████████████████████████████████████████| 60000/60000 [06:48<00:00, 146.83it/s]\n",
      "100%|███████████████████████████████████████████████████████████████████████████| 60000/60000 [05:56<00:00, 168.40it/s]\n",
      "100%|███████████████████████████████████████████████████████████████████████████| 60000/60000 [04:56<00:00, 202.33it/s]\n",
      "100%|███████████████████████████████████████████████████████████████████████████| 60000/60000 [04:54<00:00, 203.89it/s]\n",
      "100%|███████████████████████████████████████████████████████████████████████████| 60000/60000 [04:50<00:00, 206.64it/s]\n",
      "100%|███████████████████████████████████████████████████████████████████████████| 60000/60000 [04:44<00:00, 211.09it/s]\n",
      "100%|███████████████████████████████████████████████████████████████████████████| 60000/60000 [04:47<00:00, 208.34it/s]\n",
      "100%|███████████████████████████████████████████████████████████████████████████| 60000/60000 [04:39<00:00, 214.99it/s]\n",
      "100%|███████████████████████████████████████████████████████████████████████████| 60000/60000 [04:34<00:00, 218.66it/s]\n",
      "100%|███████████████████████████████████████████████████████████████████████████| 60000/60000 [04:34<00:00, 218.86it/s]\n",
      "100%|███████████████████████████████████████████████████████████████████████████| 60000/60000 [04:36<00:00, 217.26it/s]\n",
      "100%|███████████████████████████████████████████████████████████████████████████| 60000/60000 [04:35<00:00, 217.43it/s]\n",
      "100%|███████████████████████████████████████████████████████████████████████████| 60000/60000 [04:35<00:00, 217.45it/s]\n",
      "100%|███████████████████████████████████████████████████████████████████████████| 60000/60000 [04:41<00:00, 213.00it/s]\n",
      "100%|███████████████████████████████████████████████████████████████████████████| 60000/60000 [04:36<00:00, 216.67it/s]\n",
      "100%|███████████████████████████████████████████████████████████████████████████| 60000/60000 [04:35<00:00, 217.43it/s]\n",
      "100%|███████████████████████████████████████████████████████████████████████████| 60000/60000 [04:40<00:00, 213.61it/s]\n",
      "100%|███████████████████████████████████████████████████████████████████████████| 60000/60000 [04:41<00:00, 213.25it/s]\n",
      "100%|███████████████████████████████████████████████████████████████████████████| 60000/60000 [04:49<00:00, 207.25it/s]\n",
      "100%|███████████████████████████████████████████████████████████████████████████| 60000/60000 [04:30<00:00, 221.67it/s]\n",
      "100%|███████████████████████████████████████████████████████████████████████████| 60000/60000 [04:42<00:00, 212.72it/s]\n",
      "100%|███████████████████████████████████████████████████████████████████████████| 60000/60000 [04:42<00:00, 212.65it/s]\n",
      "100%|███████████████████████████████████████████████████████████████████████████| 60000/60000 [04:51<00:00, 205.69it/s]\n",
      "100%|███████████████████████████████████████████████████████████████████████████| 60000/60000 [04:58<00:00, 200.72it/s]\n",
      "100%|███████████████████████████████████████████████████████████████████████████| 60000/60000 [04:41<00:00, 213.18it/s]\n",
      "100%|███████████████████████████████████████████████████████████████████████████| 60000/60000 [05:17<00:00, 189.27it/s]\n",
      "100%|███████████████████████████████████████████████████████████████████████████| 60000/60000 [05:23<00:00, 185.33it/s]\n",
      "100%|███████████████████████████████████████████████████████████████████████████| 60000/60000 [05:26<00:00, 183.57it/s]\n",
      "100%|███████████████████████████████████████████████████████████████████████████| 60000/60000 [05:38<00:00, 177.01it/s]\n",
      "100%|███████████████████████████████████████████████████████████████████████████| 60000/60000 [05:07<00:00, 195.38it/s]\n",
      "100%|███████████████████████████████████████████████████████████████████████████| 60000/60000 [05:04<00:00, 196.82it/s]\n",
      "100%|███████████████████████████████████████████████████████████████████████████| 60000/60000 [04:31<00:00, 220.81it/s]\n",
      "100%|███████████████████████████████████████████████████████████████████████████| 60000/60000 [04:47<00:00, 208.41it/s]\n",
      "100%|███████████████████████████████████████████████████████████████████████████| 60000/60000 [05:08<00:00, 194.46it/s]\n",
      "100%|███████████████████████████████████████████████████████████████████████████| 60000/60000 [04:44<00:00, 210.98it/s]\n",
      "100%|███████████████████████████████████████████████████████████████████████████| 60000/60000 [04:38<00:00, 215.71it/s]\n",
      "100%|███████████████████████████████████████████████████████████████████████████| 60000/60000 [04:36<00:00, 216.94it/s]\n",
      "100%|███████████████████████████████████████████████████████████████████████████| 60000/60000 [04:36<00:00, 216.67it/s]\n",
      "100%|███████████████████████████████████████████████████████████████████████████| 60000/60000 [04:37<00:00, 216.55it/s]\n",
      "100%|███████████████████████████████████████████████████████████████████████████| 60000/60000 [04:36<00:00, 216.94it/s]\n",
      "100%|███████████████████████████████████████████████████████████████████████████| 60000/60000 [04:37<00:00, 216.08it/s]\n",
      "100%|███████████████████████████████████████████████████████████████████████████| 60000/60000 [04:35<00:00, 217.68it/s]\n",
      "100%|███████████████████████████████████████████████████████████████████████████| 60000/60000 [04:36<00:00, 217.04it/s]\n",
      "100%|███████████████████████████████████████████████████████████████████████████| 60000/60000 [04:37<00:00, 216.14it/s]\n",
      "100%|███████████████████████████████████████████████████████████████████████████| 60000/60000 [04:35<00:00, 217.45it/s]\n",
      "100%|███████████████████████████████████████████████████████████████████████████| 60000/60000 [04:35<00:00, 217.62it/s]\n",
      "100%|███████████████████████████████████████████████████████████████████████████| 60000/60000 [04:33<00:00, 219.66it/s]\n",
      "100%|███████████████████████████████████████████████████████████████████████████| 60000/60000 [04:46<00:00, 209.63it/s]\n",
      "100%|███████████████████████████████████████████████████████████████████████████| 60000/60000 [04:33<00:00, 219.37it/s]\n",
      "100%|███████████████████████████████████████████████████████████████████████████| 60000/60000 [04:34<00:00, 218.75it/s]\n"
     ]
    }
   ],
   "source": [
    "\n",
    "vaenc=VAE(latent_dim).to(device)\n",
    "opt = torch.optim.Adam(vaenc.parameters())\n",
    "\n",
    "for i in range(EPOCHS):\n",
    "    for idx,x in enumerate(tqdm(train)):\n",
    "        opt.zero_grad()\n",
    "        x=x/255\n",
    "        x=x.to(torch.float32)\n",
    "        x = x.to(device) # GPU\n",
    "        xx=vaenc.forward(x)\n",
    "#         print(xx)\n",
    "\n",
    "        if(idx % 1000 == 0 or idx == train.shape[0]-1):\n",
    "            chaap2(x,xx, idx, i)\n",
    "\n",
    "#         print(x)\n",
    "\n",
    "        #losses=torch.linalg.norm(xx-x,2)/784 + vaenc.enc.kld\n",
    "        losses = ((x - xx)**2).sum() + beta*vaenc.enc.kld\n",
    "\n",
    "\n",
    "        losses.backward()\n",
    "        opt.step()\n",
    "\n",
    "\n",
    "torch.save(vaenc.state_dict(), PATH)\n",
    "\n",
    "\n"
   ]
  },
  {
   "cell_type": "code",
   "execution_count": 45,
   "id": "1d00238e",
   "metadata": {},
   "outputs": [
    {
     "data": {
      "text/plain": [
       "<matplotlib.image.AxesImage at 0x267edb9dcc0>"
      ]
     },
     "execution_count": 45,
     "metadata": {},
     "output_type": "execute_result"
    },
    {
     "data": {
      "image/png": "[encoded data removed]",
      "text/plain": [
       "<Figure size 100x100 with 1 Axes>"
      ]
     },
     "metadata": {},
     "output_type": "display_data"
    }
   ],
   "source": [
    "required = torch.randn(64);\n",
    "plt.figure(figsize=(1,1))\n",
    "\n",
    "plt.imshow(vaenc.dec(required.to(device)).detach().cpu().numpy().reshape(28,28),cmap='gray')"
   ]
  },
  {
   "cell_type": "code",
   "execution_count": 47,
   "id": "2f31b82f",
   "metadata": {},
   "outputs": [
    {
     "data": {
      "text/plain": [
       "<matplotlib.image.AxesImage at 0x211f85b7c10>"
      ]
     },
     "execution_count": 47,
     "metadata": {},
     "output_type": "execute_result"
    },
    {
     "data": {
      "image/png": "[encoded data removed]",
      "text/plain": [
       "<Figure size 100x100 with 1 Axes>"
      ]
     },
     "metadata": {},
     "output_type": "display_data"
    }
   ],
   "source": [
    "plt.figure(figsize=(1,1))\n",
    "plt.imshow(train[1].reshape(28,28),cmap='gray')"
   ]
  },
  {
   "cell_type": "code",
   "execution_count": null,
   "id": "4fae4875",
   "metadata": {},
   "outputs": [],
   "source": []
  }
 ],
 "metadata": {
  "kernelspec": {
   "display_name": "Python 3 (ipykernel)",
   "language": "python",
   "name": "python3"
  },
  "language_info": {
   "codemirror_mode": {
    "name": "ipython",
    "version": 3
   },
   "file_extension": ".py",
   "mimetype": "text/x-python",
   "name": "python",
   "nbconvert_exporter": "python",
   "pygments_lexer": "ipython3",
   "version": "3.10.9"
  }
 },
 "nbformat": 4,
 "nbformat_minor": 5
}
