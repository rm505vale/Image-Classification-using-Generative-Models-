{
 "cells": [
  {
   "cell_type": "code",
   "execution_count": 1,
   "id": "3c0c5938",
   "metadata": {},
   "outputs": [],
   "source": [
    "import torch\n",
    "import torch.nn as nn \n",
    "import torch.nn.functional as F\n",
    "import torch.utils\n",
    "import torch.distributions\n",
    "import numpy as np\n",
    "import matplotlib.pyplot as plt\n",
    "import mnist\n",
    "import scipy.misc\n",
    "from  tqdm import tqdm\n",
    "import os"
   ]
  },
  {
   "cell_type": "code",
   "execution_count": 2,
   "id": "4931cfb6",
   "metadata": {},
   "outputs": [],
   "source": [
    "plt.rcParams.update({'figure.max_open_warning': 0})\n",
    "if not os.path.exists(\"images\"):\n",
    "    os.mkdir(\"images\")"
   ]
  },
  {
   "cell_type": "code",
   "execution_count": null,
   "id": "579d361b",
   "metadata": {},
   "outputs": [],
   "source": []
  },
  {
   "cell_type": "code",
   "execution_count": 3,
   "id": "a33505b2",
   "metadata": {},
   "outputs": [],
   "source": [
    "class Encoder(nn.Module):\n",
    "    def __init__(self,x):\n",
    "        super(Encoder, self).__init__()\n",
    "        self.l1=nn.Linear(784,512)\n",
    "        self.l2=nn.Linear(512,x)\n",
    "    \n",
    "    def forward(self,x):\n",
    "        \n",
    "        x=torch.flatten(x)\n",
    "        x = x.to(torch.float32)\n",
    "\n",
    "#         print(x.shape)\n",
    "        ans=self.l1(x)\n",
    "        ans=F.relu(ans)\n",
    "        ans=self.l2(ans)\n",
    "        return ans\n",
    "        \n",
    "        \n",
    "        "
   ]
  },
  {
   "cell_type": "code",
   "execution_count": 4,
   "id": "c87eadb6",
   "metadata": {},
   "outputs": [],
   "source": [
    "class Decoder(nn.Module):\n",
    "    def __init__(self,x):\n",
    "        super(Decoder, self).__init__()\n",
    "        self.l1=nn.Linear(x,512)\n",
    "        self.l2=nn.Linear(512,784)\n",
    "                \n",
    "    def forward(self,x):\n",
    "#         x = torch.from_numpy(x)\n",
    "#         x=torch.flatten(x)\n",
    "#         x = x.to(torch.float32)\n",
    "\n",
    "#         print(x.shape)\n",
    "        ans=self.l1(x)\n",
    "        ans=F.relu(ans)\n",
    "        ans=self.l2(ans)\n",
    "        ans = torch.sigmoid(ans)\n",
    "        return ans\n",
    "\n",
    "        "
   ]
  },
  {
   "cell_type": "code",
   "execution_count": 5,
   "id": "30c48bda",
   "metadata": {},
   "outputs": [],
   "source": [
    "class Autoencoder(nn.Module):\n",
    "    def __init__(self,x):\n",
    "        super(Autoencoder, self).__init__()\n",
    "        self.enc=Encoder(x)\n",
    "        self.dec=Decoder(x)\n",
    "                \n",
    "    def forward(self,x):\n",
    "        x=self.enc.forward(x)\n",
    "        return self.dec.forward(x)\n",
    "    def decode(self,faltu):\n",
    "        return self.dec.forward(faltu)\n",
    "\n",
    "        "
   ]
  },
  {
   "cell_type": "code",
   "execution_count": null,
   "id": "0a0da768",
   "metadata": {},
   "outputs": [],
   "source": []
  },
  {
   "cell_type": "code",
   "execution_count": null,
   "id": "8f5bdd87",
   "metadata": {},
   "outputs": [],
   "source": []
  },
  {
   "cell_type": "code",
   "execution_count": 6,
   "id": "581a5f73",
   "metadata": {},
   "outputs": [],
   "source": [
    "train = mnist.train_images()\n",
    "test=mnist.test_images()\n",
    "train=torch.Tensor(train)\n",
    "test=torch.Tensor(test)\n",
    "\n"
   ]
  },
  {
   "cell_type": "code",
   "execution_count": 7,
   "id": "0c564b3f",
   "metadata": {},
   "outputs": [],
   "source": [
    "train=torch.flatten(train,start_dim=1)"
   ]
  },
  {
   "cell_type": "code",
   "execution_count": 8,
   "id": "21f321d0",
   "metadata": {},
   "outputs": [],
   "source": [
    "test=torch.flatten(test,start_dim=1)"
   ]
  },
  {
   "cell_type": "raw",
   "id": "07978bfa",
   "metadata": {},
   "source": []
  },
  {
   "cell_type": "raw",
   "id": "7f3fd5d0",
   "metadata": {},
   "source": [
    "fruytf"
   ]
  },
  {
   "cell_type": "code",
   "execution_count": null,
   "id": "e059f4a6",
   "metadata": {},
   "outputs": [],
   "source": [
    "y=mnist.train_labels()"
   ]
  },
  {
   "cell_type": "code",
   "execution_count": null,
   "id": "d7753962",
   "metadata": {},
   "outputs": [],
   "source": []
  },
  {
   "cell_type": "code",
   "execution_count": null,
   "id": "d7645817",
   "metadata": {},
   "outputs": [],
   "source": [
    "# obj=Encoder(64)\n",
    "# xx=obj.forward(x[0])"
   ]
  },
  {
   "cell_type": "code",
   "execution_count": null,
   "id": "759281ef",
   "metadata": {},
   "outputs": [],
   "source": [
    "# dec=Decoder(64)\n",
    "# rec=dec.forward(xx)"
   ]
  },
  {
   "cell_type": "code",
   "execution_count": null,
   "id": "86125289",
   "metadata": {},
   "outputs": [],
   "source": []
  },
  {
   "cell_type": "code",
   "execution_count": null,
   "id": "535cdfd1",
   "metadata": {},
   "outputs": [],
   "source": [
    "def chaap(orignal,decoded):\n",
    "    org1=torch.tensor(orignal)\n",
    "    org1=org1.detach().cpu().numpy()\n",
    "    org1=np.resize(org1,(28,28))\n",
    "    \n",
    "    dec1=torch.tensor(decoded)\n",
    "    dec1=dec1.detach().cpu().numpy()\n",
    "    dec1=np.resize(dec1,(28,28))\n",
    "    \n",
    "    plt.imshow(dec1)   \n",
    "#     plt.imshow(org1)"
   ]
  },
  {
   "cell_type": "code",
   "execution_count": null,
   "id": "c0f9f894",
   "metadata": {},
   "outputs": [],
   "source": [
    "PATH=\"tattimodel\""
   ]
  },
  {
   "cell_type": "code",
   "execution_count": null,
   "id": "f911e8b2",
   "metadata": {},
   "outputs": [],
   "source": [
    "EPOCHS=10\n",
    "lr=0.0001\n",
    "latent_dim=64\n",
    "autoencoder=Autoencoder(latent_dim)\n",
    "opt = torch.optim.Adam(autoencoder.parameters())\n"
   ]
  },
  {
   "cell_type": "code",
   "execution_count": 26,
   "id": "d2dcca12",
   "metadata": {},
   "outputs": [],
   "source": [
    "def chaap2(orignal,decoded, idx, epo):\n",
    "    if not os.path.exists(f\"images/{epo}\"):\n",
    "        os.mkdir(f\"images/{epo}\")\n",
    "        \n",
    "    org1=torch.tensor(orignal)\n",
    "    org1=org1.detach().cpu().numpy()\n",
    "    org1=np.resize(org1,(28,28))\n",
    "    \n",
    "    dec1=torch.tensor(decoded)\n",
    "    dec1=dec1.detach().cpu().numpy()\n",
    "    dec1=np.resize(dec1,(28,28))\n",
    "    \n",
    "    if not os.path.exists(f\"images/{epo}/{idx}\"):\n",
    "        os.mkdir(f\"images/{epo}/{idx}\")\n",
    "    \n",
    "    \n",
    "    output_path = f\"images/{epo}/{idx}\"  # Replace with the desired output path and filename\n",
    "#     plt.imsave(output_path, op)\n",
    "    plt.imsave(f\"images/{epo}/{idx}/original.png\" , org1)\n",
    "    plt.imsave(f\"images/{epo}/{idx}/decoded.png\" , dec1)\n",
    "    \n",
    "#     plt.imshow(dec1)\n",
    "#     plt.show()\n",
    "    \n"
   ]
  },
  {
   "cell_type": "code",
   "execution_count": null,
   "id": "f8d43139",
   "metadata": {},
   "outputs": [],
   "source": []
  },
  {
   "cell_type": "code",
   "execution_count": null,
   "id": "709edd10",
   "metadata": {},
   "outputs": [],
   "source": []
  },
  {
   "cell_type": "code",
   "execution_count": null,
   "id": "12ac7823",
   "metadata": {},
   "outputs": [],
   "source": []
  },
  {
   "cell_type": "code",
   "execution_count": null,
   "id": "8735de19",
   "metadata": {},
   "outputs": [],
   "source": [
    "chaap2(tatti,tatti,0,0)"
   ]
  },
  {
   "cell_type": "code",
   "execution_count": null,
   "id": "b4391024",
   "metadata": {},
   "outputs": [],
   "source": [
    "for i in range(EPOCHS):\n",
    "    for idx,x in enumerate(tqdm(train[:10000])):\n",
    "        \n",
    "        xx=autoencoder.forward(x)\n",
    "#         print(x.shape)\n",
    "        if(idx % 1000 == 0):\n",
    "            #chaap(x,xx)\n",
    "            chaap2(x,xx, idx, i)\n",
    "        opt.zero_grad()\n",
    "#         x=x/255\n",
    "#         print(x)\n",
    "#         print(xx)\n",
    "        losses=torch.linalg.norm(xx-x,2)/784\n",
    "        losses.backward()\n",
    "        opt.step()\n",
    "        \n",
    "        \n",
    "    \n",
    "    "
   ]
  },
  {
   "cell_type": "code",
   "execution_count": null,
   "id": "15525540",
   "metadata": {},
   "outputs": [],
   "source": [
    "torch.save(autoencoder.state_dict(), PATH)"
   ]
  },
  {
   "cell_type": "code",
   "execution_count": null,
   "id": "57fe07a0",
   "metadata": {},
   "outputs": [],
   "source": [
    "model = Autoencoder(64)\n",
    "model.load_state_dict(torch.load(PATH))\n"
   ]
  },
  {
   "cell_type": "code",
   "execution_count": null,
   "id": "b2552f13",
   "metadata": {},
   "outputs": [],
   "source": [
    "tatti=np.random.rand(64)*100+np.random.rand(1)[0]*np.ones(64)\n",
    "tatti=torch.Tensor(tatti)\n",
    "tatti=autoencoder.decode(tatti)"
   ]
  },
  {
   "cell_type": "code",
   "execution_count": null,
   "id": "d9b3d2f7",
   "metadata": {},
   "outputs": [],
   "source": [
    "chaap(tatti,tatti)"
   ]
  },
  {
   "cell_type": "code",
   "execution_count": null,
   "id": "b81fe7c4",
   "metadata": {},
   "outputs": [],
   "source": [
    "centrals=np.empty(64)\n",
    "counter1 = 0\n",
    "for idx, i in enumerate (train):\n",
    "    if y[idx] == 8:\n",
    "        counter1+=1\n",
    "        ans=autoencoder.enc.forward(i)\n",
    "        ans=ans.detach().cpu().numpy()\n",
    "        centrals=np.vstack((centrals,ans))\n",
    "\n",
    "#     centrals.append(ans)\n",
    "#     print(ans.shape)\n",
    "    \n",
    "    \n",
    "    \n",
    "    "
   ]
  },
  {
   "cell_type": "code",
   "execution_count": null,
   "id": "85e9eef5",
   "metadata": {},
   "outputs": [],
   "source": [
    "mean=np.zeros(64)\n",
    "std=np.zeros(64)\n",
    "for i in range(centrals.shape[0]):\n",
    "    mean=mean+centrals[i]\n",
    "\n",
    "mean=mean/counter1\n",
    "for i in range(centrals.shape[0]):\n",
    "    std=std+(mean-centrals[i])**2\n",
    "\n",
    "std=std/counter1\n",
    "std=std**(0.5)\n"
   ]
  },
  {
   "cell_type": "code",
   "execution_count": null,
   "id": "3761b432",
   "metadata": {},
   "outputs": [],
   "source": [
    "chudail=np.empty(5)\n",
    "for i in range(64):\n",
    "    chudail=np.vstack((chudail,np.linspace(mean[i]-std[i],mean[i]+std[i],5)))"
   ]
  },
  {
   "cell_type": "code",
   "execution_count": null,
   "id": "0dd9881b",
   "metadata": {},
   "outputs": [],
   "source": [
    "def getZ():\n",
    "    z = torch.rand(64)\n",
    "    idx = int(np.random.uniform(1, 5, 1)[0])\n",
    "    z = chudail[1:,idx]\n",
    "    z = torch.tensor(z)\n",
    "    z = z.float()\n",
    "    return z\n"
   ]
  },
  {
   "cell_type": "code",
   "execution_count": null,
   "id": "87cad9bd",
   "metadata": {},
   "outputs": [],
   "source": [
    "\n",
    "def chaapkabaap():\n",
    "    n=10\n",
    "    img = np.zeros((n*28, n*28))\n",
    "\n",
    "    for i in range(10):\n",
    "        for j in range(10):\n",
    "            \n",
    "            z = getZ()\n",
    "            \n",
    "            \n",
    "            x_hat = autoencoder.decode(z)\n",
    "            x_hat = x_hat.reshape(28, 28).to('cpu').detach().numpy()\n",
    "            img[(n-1-i)*28:(n-1-i+1)*28, j*28:(j+1)*28] = x_hat\n",
    "    plt.imshow(img)"
   ]
  },
  {
   "cell_type": "code",
   "execution_count": null,
   "id": "df3fabf3",
   "metadata": {},
   "outputs": [],
   "source": [
    "train.shape"
   ]
  },
  {
   "cell_type": "code",
   "execution_count": null,
   "id": "d4024fc5",
   "metadata": {},
   "outputs": [],
   "source": [
    "chaapkabaap()"
   ]
  },
  {
   "cell_type": "code",
   "execution_count": null,
   "id": "19d53f2f",
   "metadata": {},
   "outputs": [],
   "source": [
    "chudail"
   ]
  },
  {
   "cell_type": "code",
   "execution_count": null,
   "id": "1f51fcaf",
   "metadata": {},
   "outputs": [],
   "source": [
    "chaapkabaap()"
   ]
  },
  {
   "cell_type": "code",
   "execution_count": null,
   "id": "ddb6294a",
   "metadata": {},
   "outputs": [],
   "source": [
    "getZ()"
   ]
  },
  {
   "cell_type": "code",
   "execution_count": null,
   "id": "e35223b8",
   "metadata": {},
   "outputs": [],
   "source": [
    "chaapkabaap()"
   ]
  },
  {
   "cell_type": "code",
   "execution_count": 12,
   "id": "55278044",
   "metadata": {},
   "outputs": [],
   "source": [
    "class VariationalEnc(nn.Module):\n",
    "    def __init__(self,x):\n",
    "        super(VariationalEnc, self).__init__()\n",
    "        self.l1=nn.Linear(784,512)\n",
    "        self.l2=nn.Linear(512,x)\n",
    "        self.l3=nn.Linear(512,x)\n",
    "        self.dis=torch.distributions.Normal(0, 1)\n",
    "        self.kld=0\n",
    "    def forward(self,x):\n",
    "        x=self.l1(x)\n",
    "        x = F.relu(x)\n",
    "        mu=self.l2(x)\n",
    "        sig=torch.exp(self.l3(x))\n",
    "        z=mu + sig*self.dis.sample(mu.shape)\n",
    "        self.kld=(sig**2 + mu**2 - torch.log(sig) - 1/2).sum()\n",
    "        return z\n",
    "        \n",
    "        \n",
    "        \n",
    "        \n",
    "    "
   ]
  },
  {
   "cell_type": "code",
   "execution_count": 13,
   "id": "f4ab5793",
   "metadata": {},
   "outputs": [],
   "source": [
    "class VAE(nn.Module):\n",
    "    def __init__(self,x):\n",
    "        super(VAE, self).__init__()\n",
    "        self.enc=VariationalEnc(x)\n",
    "        self.dec=Decoder(x)\n",
    "        \n",
    "    def forward(self,x):\n",
    "        x=self.enc(x)\n",
    "        return self.dec(x)\n",
    "        "
   ]
  },
  {
   "cell_type": "code",
   "execution_count": 28,
   "id": "e03a40ba",
   "metadata": {},
   "outputs": [],
   "source": [
    "PATH=\"achamodel2\"\n",
    "EPOCHS=50\n",
    "lr=0.0001\n",
    "latent_dim=10\n",
    "vaenc=VAE(latent_dim)\n",
    "opt = torch.optim.Adam(vaenc.parameters())\n"
   ]
  },
  {
   "cell_type": "code",
   "execution_count": null,
   "id": "47df026f",
   "metadata": {},
   "outputs": [],
   "source": []
  },
  {
   "cell_type": "code",
   "execution_count": 29,
   "id": "bd9db291",
   "metadata": {},
   "outputs": [
    {
     "name": "stderr",
     "output_type": "stream",
     "text": [
      "  0%|                                                 | 0/60000 [00:00<?, ?it/s]/tmp/ipykernel_5050/2248118941.py:5: UserWarning: To copy construct from a tensor, it is recommended to use sourceTensor.clone().detach() or sourceTensor.clone().detach().requires_grad_(True), rather than torch.tensor(sourceTensor).\n",
      "  org1=torch.tensor(orignal)\n",
      "/tmp/ipykernel_5050/2248118941.py:9: UserWarning: To copy construct from a tensor, it is recommended to use sourceTensor.clone().detach() or sourceTensor.clone().detach().requires_grad_(True), rather than torch.tensor(sourceTensor).\n",
      "  dec1=torch.tensor(decoded)\n",
      "100%|████████████████████████████████████| 60000/60000 [06:11<00:00, 161.61it/s]\n",
      "100%|█████████████████████████████████████| 60000/60000 [12:23<00:00, 80.67it/s]\n",
      "100%|█████████████████████████████████████| 60000/60000 [16:48<00:00, 59.48it/s]\n",
      "100%|█████████████████████████████████████| 60000/60000 [17:52<00:00, 55.96it/s]\n",
      "100%|█████████████████████████████████████| 60000/60000 [18:22<00:00, 54.41it/s]\n",
      "100%|█████████████████████████████████████| 60000/60000 [18:23<00:00, 54.40it/s]\n",
      "100%|█████████████████████████████████████| 60000/60000 [18:44<00:00, 53.37it/s]\n",
      "100%|█████████████████████████████████████| 60000/60000 [18:52<00:00, 52.98it/s]\n",
      "100%|█████████████████████████████████████| 60000/60000 [19:02<00:00, 52.50it/s]\n",
      "100%|█████████████████████████████████████| 60000/60000 [19:09<00:00, 52.18it/s]\n",
      "100%|█████████████████████████████████████| 60000/60000 [19:12<00:00, 52.04it/s]\n",
      "100%|█████████████████████████████████████| 60000/60000 [19:11<00:00, 52.11it/s]\n",
      "100%|█████████████████████████████████████| 60000/60000 [19:18<00:00, 51.80it/s]\n",
      "100%|█████████████████████████████████████| 60000/60000 [19:21<00:00, 51.66it/s]\n",
      "100%|█████████████████████████████████████| 60000/60000 [19:10<00:00, 52.15it/s]\n",
      "100%|█████████████████████████████████████| 60000/60000 [19:21<00:00, 51.66it/s]\n",
      "100%|█████████████████████████████████████| 60000/60000 [19:12<00:00, 52.07it/s]\n",
      "100%|█████████████████████████████████████| 60000/60000 [19:25<00:00, 51.47it/s]\n",
      "100%|█████████████████████████████████████| 60000/60000 [19:27<00:00, 51.40it/s]\n",
      "100%|█████████████████████████████████████| 60000/60000 [19:13<00:00, 52.03it/s]\n",
      "100%|█████████████████████████████████████| 60000/60000 [19:15<00:00, 51.90it/s]\n",
      "100%|█████████████████████████████████████| 60000/60000 [19:28<00:00, 51.35it/s]\n",
      "100%|█████████████████████████████████████| 60000/60000 [19:30<00:00, 51.26it/s]\n",
      "100%|█████████████████████████████████████| 60000/60000 [19:26<00:00, 51.43it/s]\n",
      "100%|█████████████████████████████████████| 60000/60000 [19:21<00:00, 51.68it/s]\n",
      "100%|█████████████████████████████████████| 60000/60000 [19:33<00:00, 51.13it/s]\n",
      "100%|█████████████████████████████████████| 60000/60000 [19:29<00:00, 51.28it/s]\n",
      "100%|█████████████████████████████████████| 60000/60000 [19:19<00:00, 51.73it/s]\n",
      "100%|█████████████████████████████████████| 60000/60000 [19:21<00:00, 51.68it/s]\n",
      "100%|█████████████████████████████████████| 60000/60000 [19:31<00:00, 51.20it/s]\n",
      "100%|█████████████████████████████████████| 60000/60000 [19:21<00:00, 51.65it/s]\n",
      "100%|█████████████████████████████████████| 60000/60000 [19:19<00:00, 51.72it/s]\n",
      "100%|█████████████████████████████████████| 60000/60000 [19:34<00:00, 51.08it/s]\n",
      "100%|█████████████████████████████████████| 60000/60000 [19:31<00:00, 51.21it/s]\n",
      "100%|█████████████████████████████████████| 60000/60000 [19:28<00:00, 51.33it/s]\n",
      "100%|█████████████████████████████████████| 60000/60000 [19:26<00:00, 51.45it/s]\n",
      "100%|█████████████████████████████████████| 60000/60000 [19:35<00:00, 51.03it/s]\n",
      "100%|█████████████████████████████████████| 60000/60000 [19:36<00:00, 51.02it/s]\n",
      "100%|█████████████████████████████████████| 60000/60000 [19:23<00:00, 51.56it/s]\n",
      "100%|█████████████████████████████████████| 60000/60000 [19:47<00:00, 50.51it/s]\n",
      "100%|█████████████████████████████████████| 60000/60000 [20:11<00:00, 49.52it/s]\n",
      "100%|█████████████████████████████████████| 60000/60000 [19:45<00:00, 50.61it/s]\n",
      "100%|█████████████████████████████████████| 60000/60000 [19:42<00:00, 50.75it/s]\n",
      "100%|█████████████████████████████████████| 60000/60000 [20:05<00:00, 49.77it/s]\n",
      "100%|█████████████████████████████████████| 60000/60000 [19:55<00:00, 50.20it/s]\n",
      "100%|█████████████████████████████████████| 60000/60000 [19:44<00:00, 50.65it/s]\n",
      "100%|█████████████████████████████████████| 60000/60000 [19:52<00:00, 50.32it/s]\n",
      "100%|█████████████████████████████████████| 60000/60000 [19:51<00:00, 50.35it/s]\n",
      "100%|█████████████████████████████████████| 60000/60000 [19:52<00:00, 50.29it/s]\n",
      "100%|█████████████████████████████████████| 60000/60000 [19:36<00:00, 50.99it/s]\n"
     ]
    }
   ],
   "source": [
    "\n",
    "for i in range(EPOCHS):\n",
    "    for idx,x in enumerate(tqdm(train)):\n",
    "        opt.zero_grad()\n",
    "        x=x/255\n",
    "        xx=vaenc.forward(x)\n",
    "#         print(xx)\n",
    "        \n",
    "        if(idx % 1000 == 0):\n",
    "            #chaap(x,xx)\n",
    "            chaap2(x,xx, idx, i)\n",
    "        \n",
    "#         x=x/255\n",
    "#         print(x)\n",
    "\n",
    "        #losses=torch.linalg.norm(xx-x,2)/784 + vaenc.enc.kld\n",
    "        losses = ((x - xx)**2).sum() + 4*vaenc.enc.kld\n",
    "    \n",
    "    \n",
    "        losses.backward()\n",
    "        opt.step()\n",
    "        \n",
    "        \n",
    "torch.save(vaenc.state_dict(), PATH)\n",
    "    "
   ]
  },
  {
   "cell_type": "code",
   "execution_count": 16,
   "id": "a03a961d",
   "metadata": {},
   "outputs": [],
   "source": [
    "# torch.save(vaenc.state_dict(), PATH)"
   ]
  },
  {
   "cell_type": "code",
   "execution_count": 33,
   "id": "8ec0c16c",
   "metadata": {},
   "outputs": [
    {
     "data": {
      "text/plain": [
       "'achamodel2'"
      ]
     },
     "execution_count": 33,
     "metadata": {},
     "output_type": "execute_result"
    }
   ],
   "source": []
  },
  {
   "cell_type": "code",
   "execution_count": 34,
   "id": "c63ec083",
   "metadata": {},
   "outputs": [
    {
     "data": {
      "text/plain": [
       "<All keys matched successfully>"
      ]
     },
     "execution_count": 34,
     "metadata": {},
     "output_type": "execute_result"
    }
   ],
   "source": [
    "model = VAE(10)\n",
    "model.load_state_dict(torch.load(PATH))"
   ]
  },
  {
   "cell_type": "code",
   "execution_count": null,
   "id": "03f9e413",
   "metadata": {},
   "outputs": [],
   "source": [
    "torch.tensor(torch.randn(64).to(torch.double))[0]"
   ]
  },
  {
   "cell_type": "code",
   "execution_count": null,
   "id": "0d57cf42",
   "metadata": {},
   "outputs": [],
   "source": [
    "gen=model.dec(torch.randn(64))\n",
    "plt.imshow(gen.detach().cpu().numpy().reshape(28,28))"
   ]
  },
  {
   "cell_type": "code",
   "execution_count": null,
   "id": "fa3093d8",
   "metadata": {},
   "outputs": [],
   "source": [
    "gobar = Autoencoder(64)\n",
    "gobar.load_state_dict(torch.load('tattimodel'))"
   ]
  },
  {
   "cell_type": "code",
   "execution_count": null,
   "id": "e81579ce",
   "metadata": {},
   "outputs": [],
   "source": [
    "gen=gobar.dec(torch.randn(64))\n",
    "plt.imshow(gen.detach().cpu().numpy().reshape(28,28))"
   ]
  },
  {
   "cell_type": "code",
   "execution_count": null,
   "id": "28d73e9d",
   "metadata": {},
   "outputs": [],
   "source": [
    "class VEnc(nn.Module):\n",
    "    def __init__(self, latent_dims):\n",
    "        super(VEnc, self).__init__()\n",
    "        self.linear1 = nn.Linear(784, 512)\n",
    "        self.linear2 = nn.Linear(512, latent_dims)\n",
    "        self.linear3 = nn.Linear(512, latent_dims)\n",
    "\n",
    "        self.N = torch.distributions.Normal(0, 1)\n",
    "        self.kl = 0\n",
    "\n",
    "    def forward(self, x):\n",
    "        x = F.relu(self.linear1(x))\n",
    "        mu =  self.linear2(x)\n",
    "        sigma = torch.exp(self.linear3(x))\n",
    "        z = mu + sigma*self.N.sample(mu.shape)\n",
    "        self.kl = (sigma**2 + mu**2 - torch.log(sigma) - 1/2).sum()\n",
    "        return z\n",
    "    \n",
    "class Decoder1(nn.Module):\n",
    "    def __init__(self, latent_dims):\n",
    "        super(Decoder1, self).__init__()\n",
    "        self.linear1 = nn.Linear(latent_dims, 512)\n",
    "        self.linear2 = nn.Linear(512, 784)\n",
    "\n",
    "    def forward(self, z):\n",
    "        z = F.relu(self.linear1(z))\n",
    "        z = torch.sigmoid(self.linear2(z))\n",
    "        return z\n",
    "    \n",
    "class VAE(nn.Module):\n",
    "    def __init__(self, latent_dims):\n",
    "        super(VAE, self).__init__()\n",
    "        self.encoder = VEnc(latent_dims)\n",
    "        self.decoder = Decoder1(latent_dims)\n",
    "\n",
    "    def forward(self, x):\n",
    "        z = self.encoder(x)\n",
    "        return self.decoder(z)\n",
    "    \n",
    "\n",
    "\n",
    "def training(autoencoder, data, epochs=5):\n",
    "    opt = torch.optim.Adam(autoencoder.parameters())\n",
    "    for epoch in range(epochs):\n",
    "        for idx, x in enumerate(tqdm(data)):\n",
    "            opt.zero_grad()\n",
    "            x = x/255\n",
    "            x_hat = autoencoder(x)\n",
    "            if(idx % 1000 == 0):\n",
    "                chaap2(x,x_hat, idx, epoch)\n",
    "            \n",
    "            #print(x_hat)\n",
    "            loss = ((x - x_hat)**2).sum() + autoencoder.encoder.kl\n",
    "            loss.backward()\n",
    "            opt.step()\n",
    "    return autoencoder\n",
    "latent_dim = 64\n",
    "my1 = VAE(latent_dim)\n",
    "\n",
    "\n",
    "resmodel = training(my1, train)\n",
    "PATH=\"achaVAEmodel\"\n",
    "torch.save(autoencoder.state_dict(), PATH)"
   ]
  },
  {
   "cell_type": "code",
   "execution_count": 85,
   "id": "7ab70b50",
   "metadata": {},
   "outputs": [
    {
     "data": {
      "text/plain": [
       "<matplotlib.image.AxesImage at 0x7fd99e997e10>"
      ]
     },
     "execution_count": 85,
     "metadata": {},
     "output_type": "execute_result"
    },
    {
     "data": {
      "image/png": "[encoded data removed]",
      "text/plain": [
       "<Figure size 640x480 with 1 Axes>"
      ]
     },
     "metadata": {},
     "output_type": "display_data"
    }
   ],
   "source": [
    "gen=model.dec(torch.randn(10))\n",
    "plt.imshow(gen.detach().cpu().numpy().reshape(28,28))"
   ]
  },
  {
   "cell_type": "code",
   "execution_count": 35,
   "id": "94a6db55",
   "metadata": {},
   "outputs": [],
   "source": [
    "required = torch.randn(10);"
   ]
  },
  {
   "cell_type": "code",
   "execution_count": 37,
   "id": "047d7016",
   "metadata": {},
   "outputs": [
    {
     "name": "stderr",
     "output_type": "stream",
     "text": [
      "/tmp/ipykernel_5050/515443102.py:6: UserWarning: To copy construct from a tensor, it is recommended to use sourceTensor.clone().detach() or sourceTensor.clone().detach().requires_grad_(True), rather than torch.tensor(sourceTensor).\n",
      "  tmp=torch.tensor(x)\n"
     ]
    },
    {
     "data": {
      "image/png": "[encoded data removed]",
      "text/plain": [
       "<Figure size 2000x2000 with 1 Axes>"
      ]
     },
     "metadata": {},
     "output_type": "display_data"
    }
   ],
   "source": [
    "def chaapkadada(x, start):\n",
    "    h = 10\n",
    "    w = 7\n",
    "    img = np.zeros((h*28, w*28))\n",
    "    for i in range(10):\n",
    "        tmp=torch.tensor(x)\n",
    "        tmp[i+start]-=4\n",
    "        for j in range(7):\n",
    "            tmp[i+start]+=1\n",
    "            x_hat = model.dec(tmp)\n",
    "            x_hat = x_hat.reshape(28, 28).to('cpu').detach().numpy()\n",
    "            img[i*28:(i+1)*28, j*28:(j+1)*28] = x_hat\n",
    "    plt.figure(figsize=(20, 20))\n",
    "    plt.imshow(img, aspect='auto')\n",
    "    \n",
    "    \n",
    "for i in range(0,10,10):\n",
    "    chaapkadada(required, i)"
   ]
  },
  {
   "cell_type": "code",
   "execution_count": null,
   "id": "3133a290",
   "metadata": {},
   "outputs": [],
   "source": []
  }
 ],
 "metadata": {
  "kernelspec": {
   "display_name": "Python 3 (ipykernel)",
   "language": "python",
   "name": "python3"
  },
  "language_info": {
   "codemirror_mode": {
    "name": "ipython",
    "version": 3
   },
   "file_extension": ".py",
   "mimetype": "text/x-python",
   "name": "python",
   "nbconvert_exporter": "python",
   "pygments_lexer": "ipython3",
   "version": "3.11.4"
  }
 },
 "nbformat": 4,
 "nbformat_minor": 5
}
